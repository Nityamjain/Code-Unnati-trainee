{
 "cells": [
  {
   "cell_type": "markdown",
   "id": "2f7d7572-ee1a-41c6-91a2-562abf5c4c10",
   "metadata": {},
   "source": [
    "## Starting with Pandas"
   ]
  },
  {
   "cell_type": "markdown",
   "id": "d745bb39-c4c9-4a6b-b7c7-7c8e51f6afab",
   "metadata": {},
   "source": [
    "### Pandas Series"
   ]
  },
  {
   "cell_type": "code",
   "execution_count": 3,
   "id": "bdfa04a4-5867-406c-94a9-a65e246ef78c",
   "metadata": {},
   "outputs": [],
   "source": [
    "import pandas as pd\n",
    "import numpy as np"
   ]
  },
  {
   "cell_type": "code",
   "execution_count": 5,
   "id": "f747522e-8ad7-4abc-9ec0-99871c2524a1",
   "metadata": {},
   "outputs": [
    {
     "name": "stdout",
     "output_type": "stream",
     "text": [
      "Series([], dtype: object)\n"
     ]
    }
   ],
   "source": [
    "#creating a empty series\n",
    "ser =pd.Series()\n",
    "print(ser)"
   ]
  },
  {
   "cell_type": "code",
   "execution_count": 8,
   "id": "a011a710-40cd-4bfa-8597-21459375956b",
   "metadata": {},
   "outputs": [
    {
     "name": "stdout",
     "output_type": "stream",
     "text": [
      "0    g\n",
      "1    f\n",
      "2    f\n",
      "3    e\n",
      "4    h\n",
      "dtype: object\n"
     ]
    }
   ],
   "source": [
    "#simple array\n",
    "data = np.array([\"g\",'f','f','e','h'])\n",
    "ser = pd.Series(data)\n",
    "\n",
    "print(ser)"
   ]
  },
  {
   "cell_type": "code",
   "execution_count": 10,
   "id": "72a89fe3-d0c3-4246-a23f-3a669ff64c7e",
   "metadata": {},
   "outputs": [
    {
     "name": "stdout",
     "output_type": "stream",
     "text": [
      "0     23\n",
      "1     56\n",
      "2     73\n",
      "3    735\n",
      "4    255\n",
      "dtype: int64\n"
     ]
    }
   ],
   "source": [
    "#creating using list\n",
    "#a simple list\n",
    "list = [23,56,73,735,255]\n",
    "ser1= pd.Series(list)\n",
    "print(ser1)"
   ]
  },
  {
   "cell_type": "code",
   "execution_count": 15,
   "id": "382f98a9-9539-4f0d-9e7e-58c2e5becda9",
   "metadata": {},
   "outputs": [
    {
     "name": "stdout",
     "output_type": "stream",
     "text": [
      "Series([], dtype: float64)\n"
     ]
    }
   ],
   "source": [
    "# Passing dtype as a parameter to Series for an empty series to avoid DeprecationWarning\n",
    "empty_series = pd.Series(dtype='float64')\n",
    "print(empty_series)\n"
   ]
  },
  {
   "cell_type": "code",
   "execution_count": 16,
   "id": "3b26f30f-e829-4b30-a29e-ffd92233f011",
   "metadata": {},
   "outputs": [
    {
     "name": "stdout",
     "output_type": "stream",
     "text": [
      "a    22\n",
      "b    33\n",
      "c    44\n",
      "d    55\n",
      "e    66\n",
      "Name: Number, dtype: int64\n"
     ]
    }
   ],
   "source": [
    "# Same series but with different indices\n",
    "number_series = pd.Series([22, 33,44, 55, 66],index=['a', 'b', 'c','d','e'],name='Number')\n",
    "print(number_series)\n"
   ]
  },
  {
   "cell_type": "code",
   "execution_count": 17,
   "id": "287f3549-eb58-4637-9391-ee324d5d4f60",
   "metadata": {},
   "outputs": [
    {
     "name": "stdout",
     "output_type": "stream",
     "text": [
      "a    22\n",
      "b    33\n",
      "c    44\n",
      "d    55\n",
      "e    66\n",
      "Name: Number, dtype: int64\n"
     ]
    }
   ],
   "source": [
    "# Creating a same series using dictionary\n",
    "number_dict={'a':22,'b':33,'c':44,'d':55,'e':66}\n",
    "number_series=pd.Series(number_dict,name='Number')\n",
    "print(number_series)\n"
   ]
  },
  {
   "cell_type": "code",
   "execution_count": 25,
   "id": "ee78f68a-4732-40d5-b411-277c8456ccda",
   "metadata": {},
   "outputs": [
    {
     "name": "stdout",
     "output_type": "stream",
     "text": [
      "22\n",
      "22\n"
     ]
    },
    {
     "name": "stderr",
     "output_type": "stream",
     "text": [
      "C:\\Users\\admin\\AppData\\Local\\Temp\\ipykernel_18284\\2690500363.py:3: FutureWarning: Series.__getitem__ treating keys as positions is deprecated. In a future version, integer keys will always be treated as labels (consistent with DataFrame behavior). To access a value by position, use `ser.iloc[pos]`\n",
      "  print(number_series[0])\n"
     ]
    }
   ],
   "source": [
    "# accessing items in series\n",
    "print(number_series[\"a\"])\n",
    "print(number_series[0])"
   ]
  },
  {
   "cell_type": "code",
   "execution_count": 26,
   "id": "a6cfef96-6031-4a54-8108-8a27004e0378",
   "metadata": {},
   "outputs": [
    {
     "name": "stdout",
     "output_type": "stream",
     "text": [
      "Empty DataFrame\n",
      "Columns: [Column 1, Column 2, Column 3]\n",
      "Index: []\n"
     ]
    }
   ],
   "source": [
    "# Create the pandas DataFrame\n",
    "empty_df=pd.DataFrame(columns=['Column 1', 'Column 2', 'Column 3'])\n",
    "\n",
    "# Print the output\n",
    "print(empty_df)\n"
   ]
  },
  {
   "cell_type": "code",
   "execution_count": 27,
   "id": "fdc97996-8702-48e2-a979-49df2cb5f7fb",
   "metadata": {},
   "outputs": [
    {
     "name": "stdout",
     "output_type": "stream",
     "text": [
      "    Name  Age\n",
      "0    Tom   20\n",
      "1   Nick   21\n",
      "2  Krish   19\n",
      "3   Jack   18\n"
     ]
    }
   ],
   "source": [
    "\n",
    "# Store the student data in dictionary\n",
    "std_dict = { 'Name': ['Tom', 'Nick', 'Krish', 'Jack'], 'Age': [20, 21, 19, 18]}\n",
    "\n",
    "# Create the pandas DataFrame\n",
    "df = pd.DataFrame(std_dict)\n",
    "\n",
    "# Print the output.\n",
    "print(df)\n"
   ]
  },
  {
   "cell_type": "code",
   "execution_count": 28,
   "id": "d694f010-4f6f-4554-9b8c-a0931e2cf4ca",
   "metadata": {},
   "outputs": [
    {
     "data": {
      "text/html": [
       "<div>\n",
       "<style scoped>\n",
       "    .dataframe tbody tr th:only-of-type {\n",
       "        vertical-align: middle;\n",
       "    }\n",
       "\n",
       "    .dataframe tbody tr th {\n",
       "        vertical-align: top;\n",
       "    }\n",
       "\n",
       "    .dataframe thead th {\n",
       "        text-align: right;\n",
       "    }\n",
       "</style>\n",
       "<table border=\"1\" class=\"dataframe\">\n",
       "  <thead>\n",
       "    <tr style=\"text-align: right;\">\n",
       "      <th></th>\n",
       "      <th>Name</th>\n",
       "      <th>Age</th>\n",
       "    </tr>\n",
       "  </thead>\n",
       "  <tbody>\n",
       "    <tr>\n",
       "      <th>0</th>\n",
       "      <td>Tom</td>\n",
       "      <td>20</td>\n",
       "    </tr>\n",
       "    <tr>\n",
       "      <th>1</th>\n",
       "      <td>Nick</td>\n",
       "      <td>21</td>\n",
       "    </tr>\n",
       "    <tr>\n",
       "      <th>2</th>\n",
       "      <td>Krish</td>\n",
       "      <td>19</td>\n",
       "    </tr>\n",
       "    <tr>\n",
       "      <th>3</th>\n",
       "      <td>Jack</td>\n",
       "      <td>18</td>\n",
       "    </tr>\n",
       "  </tbody>\n",
       "</table>\n",
       "</div>"
      ],
      "text/plain": [
       "    Name  Age\n",
       "0    Tom   20\n",
       "1   Nick   21\n",
       "2  Krish   19\n",
       "3   Jack   18"
      ]
     },
     "execution_count": 28,
     "metadata": {},
     "output_type": "execute_result"
    }
   ],
   "source": [
    "# Creating a dataframe using a conventional list of lists\n",
    "# Initialize list of lists \n",
    "list_of_lists = [['Tom', 20], ['Nick', 21], ['Krish', 19],['Jack',18]]\n",
    "  \n",
    "# Create the pandas DataFrame \n",
    "df = pd.DataFrame(list_of_lists, columns = ['Name', 'Age']) \n",
    "  \n",
    "# Print dataframe\n",
    "df\n"
   ]
  },
  {
   "cell_type": "code",
   "execution_count": 29,
   "id": "ef8f542c-f503-4363-965b-7e1a492d9d70",
   "metadata": {},
   "outputs": [
    {
     "data": {
      "text/html": [
       "<div>\n",
       "<style scoped>\n",
       "    .dataframe tbody tr th:only-of-type {\n",
       "        vertical-align: middle;\n",
       "    }\n",
       "\n",
       "    .dataframe tbody tr th {\n",
       "        vertical-align: top;\n",
       "    }\n",
       "\n",
       "    .dataframe thead th {\n",
       "        text-align: right;\n",
       "    }\n",
       "</style>\n",
       "<table border=\"1\" class=\"dataframe\">\n",
       "  <thead>\n",
       "    <tr style=\"text-align: right;\">\n",
       "      <th></th>\n",
       "      <th>Name</th>\n",
       "      <th>Age</th>\n",
       "      <th>City</th>\n",
       "    </tr>\n",
       "  </thead>\n",
       "  <tbody>\n",
       "    <tr>\n",
       "      <th>0</th>\n",
       "      <td>Amar</td>\n",
       "      <td>29</td>\n",
       "      <td>Ahmedabad</td>\n",
       "    </tr>\n",
       "    <tr>\n",
       "      <th>1</th>\n",
       "      <td>Akbar</td>\n",
       "      <td>35</td>\n",
       "      <td>New Delhi</td>\n",
       "    </tr>\n",
       "  </tbody>\n",
       "</table>\n",
       "</div>"
      ],
      "text/plain": [
       "    Name  Age       City\n",
       "0   Amar   29  Ahmedabad\n",
       "1  Akbar   35  New Delhi"
      ]
     },
     "execution_count": 29,
     "metadata": {},
     "output_type": "execute_result"
    }
   ],
   "source": [
    "# Creating dataframe using a list of dictionaries\n",
    "\n",
    "# Initialise the list of dictionaries\n",
    "list_of_dicts = [\n",
    "    {'Name': 'Amar', 'Age': 29, 'City': 'Ahmedabad'},\n",
    "    {'Name': 'Akbar', 'Age': 35, 'City': 'New Delhi'}]\n",
    "\n",
    "# Create the DataFrame \n",
    "df = pd.DataFrame(list_of_dicts) \n",
    "\n",
    "# Print the dataframe\n",
    "df\n"
   ]
  },
  {
   "cell_type": "code",
   "execution_count": 32,
   "id": "415a4e49-b5e6-4323-8f92-9a11465dde44",
   "metadata": {},
   "outputs": [
    {
     "name": "stdout",
     "output_type": "stream",
     "text": [
      "   A  B  C  D  E\n",
      "0  5  9  1  7  9\n",
      "1  5  7  1  1  9\n",
      "2  1  7  1  8  2\n"
     ]
    }
   ],
   "source": [
    "# Creating dataframe using 2-d array\n",
    "\n",
    "# creating an array using random module\n",
    "arr = np.random.randint(1, 10, size=(3,5))\n",
    "\n",
    "# Create the dataframe\n",
    "df = pd.DataFrame(arr, columns=[\"A\",\"B\",\"C\",\"D\",\"E\"])\n",
    "\n",
    "print(df)\n"
   ]
  },
  {
   "cell_type": "code",
   "execution_count": 34,
   "id": "37f4be81-2cde-4be7-ae21-d7fa06749fab",
   "metadata": {},
   "outputs": [
    {
     "name": "stdout",
     "output_type": "stream",
     "text": [
      "   A  B\n",
      "a  1  4\n",
      "b  2  5\n",
      "c  3  6\n"
     ]
    }
   ],
   "source": [
    "# Reindexing Dataframe by Using reindex method\n",
    "\n",
    "# Create a DataFrame\n",
    "df = pd.DataFrame({\n",
    "    'A': [1, 2, 3],\n",
    "    'B': [4, 5, 6]\n",
    "}, index=['a', 'b', 'c'])\n",
    "print(df)\n"
   ]
  },
  {
   "cell_type": "code",
   "execution_count": 35,
   "id": "b39773fe-0d46-452c-b22e-e1ef02ba055a",
   "metadata": {},
   "outputs": [
    {
     "name": "stdout",
     "output_type": "stream",
     "text": [
      "     A    B\n",
      "c  3.0  6.0\n",
      "a  1.0  4.0\n",
      "e  NaN  NaN\n"
     ]
    }
   ],
   "source": [
    "# Reindex the DataFrame by using reindex method\n",
    "new_index = ['c', 'a', 'e']\n",
    "df_reindexed = df.reindex(new_index)\n",
    "\n",
    "print(df_reindexed)\n"
   ]
  },
  {
   "cell_type": "code",
   "execution_count": 66,
   "id": "46d94c68-9a6d-4be9-aea4-0e5a20c79a0a",
   "metadata": {},
   "outputs": [
    {
     "name": "stdout",
     "output_type": "stream",
     "text": [
      "     Airport.Code                                       Airport.Name\n",
      "0             ATL  Atlanta, GA: Hartsfield-Jackson Atlanta Intern...\n",
      "1             BOS                    Boston, MA: Logan International\n",
      "2             BWI  Baltimore, MD: Baltimore/Washington Internatio...\n",
      "3             CLT     Charlotte, NC: Charlotte Douglas International\n",
      "4             DCA  Washington, DC: Ronald Reagan Washington National\n",
      "...           ...                                                ...\n",
      "4403          SAN             San Diego, CA: San Diego International\n",
      "4404          SEA          Seattle, WA: Seattle/Tacoma International\n",
      "4405          SFO     San Francisco, CA: San Francisco International\n",
      "4406          SLC   Salt Lake City, UT: Salt Lake City International\n",
      "4407          TPA                     Tampa, FL: Tampa International\n",
      "\n",
      "[4408 rows x 2 columns]\n"
     ]
    }
   ],
   "source": [
    "data_frame=pd.read_csv(\"airlines.csv\")\n",
    "print(pd.DataFrame(df))"
   ]
  },
  {
   "cell_type": "code",
   "execution_count": 67,
   "id": "da894169-1b4d-489b-b61d-7d043aa2d1fe",
   "metadata": {},
   "outputs": [
    {
     "name": "stdout",
     "output_type": "stream",
     "text": [
      "     Airport.Code                                       Airport.Name\n",
      "0             ATL  Atlanta, GA: Hartsfield-Jackson Atlanta Intern...\n",
      "1             BOS                    Boston, MA: Logan International\n",
      "2             BWI  Baltimore, MD: Baltimore/Washington Internatio...\n",
      "3             CLT     Charlotte, NC: Charlotte Douglas International\n",
      "4             DCA  Washington, DC: Ronald Reagan Washington National\n",
      "...           ...                                                ...\n",
      "4403          SAN             San Diego, CA: San Diego International\n",
      "4404          SEA          Seattle, WA: Seattle/Tacoma International\n",
      "4405          SFO     San Francisco, CA: San Francisco International\n",
      "4406          SLC   Salt Lake City, UT: Salt Lake City International\n",
      "4407          TPA                     Tampa, FL: Tampa International\n",
      "\n",
      "[4408 rows x 2 columns]\n"
     ]
    }
   ],
   "source": [
    "#using usecols parameter\n",
    "df = pd.read_csv('airlines.csv',usecols=['Airport.Code','Airport.Name'])\n",
    "print(df)\n",
    "#usecols get specific columns"
   ]
  },
  {
   "cell_type": "code",
   "execution_count": 68,
   "id": "50504bea-2271-4d9b-895c-62c8fcb9b658",
   "metadata": {},
   "outputs": [
    {
     "name": "stdout",
     "output_type": "stream",
     "text": [
      "(4408, 24)\n"
     ]
    }
   ],
   "source": [
    "# Lets determine the shape of a dataframe\n",
    "print(data_frame.shape)\n"
   ]
  },
  {
   "cell_type": "code",
   "execution_count": 69,
   "id": "0233f2ba-6e65-46b9-b1c5-b617cc26f8c3",
   "metadata": {},
   "outputs": [
    {
     "name": "stdout",
     "output_type": "stream",
     "text": [
      "105792\n"
     ]
    }
   ],
   "source": [
    "# Lets print the size of a dataframe\n",
    "print(data_frame.size)\n"
   ]
  },
  {
   "cell_type": "code",
   "execution_count": 70,
   "id": "505b0bc5-61d5-494b-a325-c36fa6af5314",
   "metadata": {},
   "outputs": [
    {
     "name": "stdout",
     "output_type": "stream",
     "text": [
      "4408\n"
     ]
    }
   ],
   "source": [
    "# Print the number of rows only\n",
    "print(len(data_frame))\n"
   ]
  },
  {
   "cell_type": "code",
   "execution_count": 71,
   "id": "dd830243-76b9-462d-b50f-b9689cadfb67",
   "metadata": {},
   "outputs": [
    {
     "name": "stdout",
     "output_type": "stream",
     "text": [
      "RangeIndex(start=0, stop=4408, step=1)\n"
     ]
    }
   ],
   "source": [
    "# Print indices of dataframe\n",
    "print(data_frame.index)\n"
   ]
  },
  {
   "cell_type": "code",
   "execution_count": 72,
   "id": "f61764c3-565a-4844-b929-929a89b49b48",
   "metadata": {},
   "outputs": [
    {
     "data": {
      "text/html": [
       "<div>\n",
       "<style scoped>\n",
       "    .dataframe tbody tr th:only-of-type {\n",
       "        vertical-align: middle;\n",
       "    }\n",
       "\n",
       "    .dataframe tbody tr th {\n",
       "        vertical-align: top;\n",
       "    }\n",
       "\n",
       "    .dataframe thead th {\n",
       "        text-align: right;\n",
       "    }\n",
       "</style>\n",
       "<table border=\"1\" class=\"dataframe\">\n",
       "  <thead>\n",
       "    <tr style=\"text-align: right;\">\n",
       "      <th></th>\n",
       "      <th>Airport.Code</th>\n",
       "      <th>Airport.Name</th>\n",
       "      <th>Time.Label</th>\n",
       "      <th>Time.Month</th>\n",
       "      <th>Time.Month Name</th>\n",
       "      <th>Time.Year</th>\n",
       "      <th>Statistics.# of Delays.Carrier</th>\n",
       "      <th>Statistics.# of Delays.Late Aircraft</th>\n",
       "      <th>Statistics.# of Delays.National Aviation System</th>\n",
       "      <th>Statistics.# of Delays.Security</th>\n",
       "      <th>...</th>\n",
       "      <th>Statistics.Flights.Delayed</th>\n",
       "      <th>Statistics.Flights.Diverted</th>\n",
       "      <th>Statistics.Flights.On Time</th>\n",
       "      <th>Statistics.Flights.Total</th>\n",
       "      <th>Statistics.Minutes Delayed.Carrier</th>\n",
       "      <th>Statistics.Minutes Delayed.Late Aircraft</th>\n",
       "      <th>Statistics.Minutes Delayed.National Aviation System</th>\n",
       "      <th>Statistics.Minutes Delayed.Security</th>\n",
       "      <th>Statistics.Minutes Delayed.Total</th>\n",
       "      <th>Statistics.Minutes Delayed.Weather</th>\n",
       "    </tr>\n",
       "  </thead>\n",
       "  <tbody>\n",
       "    <tr>\n",
       "      <th>0</th>\n",
       "      <td>ATL</td>\n",
       "      <td>Atlanta, GA: Hartsfield-Jackson Atlanta Intern...</td>\n",
       "      <td>2003/06</td>\n",
       "      <td>6</td>\n",
       "      <td>June</td>\n",
       "      <td>2003</td>\n",
       "      <td>1009</td>\n",
       "      <td>1275</td>\n",
       "      <td>3217</td>\n",
       "      <td>17</td>\n",
       "      <td>...</td>\n",
       "      <td>5843</td>\n",
       "      <td>27</td>\n",
       "      <td>23974</td>\n",
       "      <td>30060</td>\n",
       "      <td>61606</td>\n",
       "      <td>68335</td>\n",
       "      <td>118831</td>\n",
       "      <td>518</td>\n",
       "      <td>268764</td>\n",
       "      <td>19474</td>\n",
       "    </tr>\n",
       "    <tr>\n",
       "      <th>1</th>\n",
       "      <td>BOS</td>\n",
       "      <td>Boston, MA: Logan International</td>\n",
       "      <td>2003/06</td>\n",
       "      <td>6</td>\n",
       "      <td>June</td>\n",
       "      <td>2003</td>\n",
       "      <td>374</td>\n",
       "      <td>495</td>\n",
       "      <td>685</td>\n",
       "      <td>3</td>\n",
       "      <td>...</td>\n",
       "      <td>1623</td>\n",
       "      <td>3</td>\n",
       "      <td>7875</td>\n",
       "      <td>9639</td>\n",
       "      <td>20319</td>\n",
       "      <td>28189</td>\n",
       "      <td>24400</td>\n",
       "      <td>99</td>\n",
       "      <td>77167</td>\n",
       "      <td>4160</td>\n",
       "    </tr>\n",
       "    <tr>\n",
       "      <th>2</th>\n",
       "      <td>BWI</td>\n",
       "      <td>Baltimore, MD: Baltimore/Washington Internatio...</td>\n",
       "      <td>2003/06</td>\n",
       "      <td>6</td>\n",
       "      <td>June</td>\n",
       "      <td>2003</td>\n",
       "      <td>296</td>\n",
       "      <td>477</td>\n",
       "      <td>389</td>\n",
       "      <td>8</td>\n",
       "      <td>...</td>\n",
       "      <td>1245</td>\n",
       "      <td>15</td>\n",
       "      <td>6998</td>\n",
       "      <td>8287</td>\n",
       "      <td>13635</td>\n",
       "      <td>26810</td>\n",
       "      <td>17556</td>\n",
       "      <td>278</td>\n",
       "      <td>64480</td>\n",
       "      <td>6201</td>\n",
       "    </tr>\n",
       "    <tr>\n",
       "      <th>3</th>\n",
       "      <td>CLT</td>\n",
       "      <td>Charlotte, NC: Charlotte Douglas International</td>\n",
       "      <td>2003/06</td>\n",
       "      <td>6</td>\n",
       "      <td>June</td>\n",
       "      <td>2003</td>\n",
       "      <td>300</td>\n",
       "      <td>472</td>\n",
       "      <td>735</td>\n",
       "      <td>2</td>\n",
       "      <td>...</td>\n",
       "      <td>1562</td>\n",
       "      <td>14</td>\n",
       "      <td>7021</td>\n",
       "      <td>8670</td>\n",
       "      <td>14763</td>\n",
       "      <td>23379</td>\n",
       "      <td>23804</td>\n",
       "      <td>127</td>\n",
       "      <td>65865</td>\n",
       "      <td>3792</td>\n",
       "    </tr>\n",
       "    <tr>\n",
       "      <th>4</th>\n",
       "      <td>DCA</td>\n",
       "      <td>Washington, DC: Ronald Reagan Washington National</td>\n",
       "      <td>2003/06</td>\n",
       "      <td>6</td>\n",
       "      <td>June</td>\n",
       "      <td>2003</td>\n",
       "      <td>283</td>\n",
       "      <td>268</td>\n",
       "      <td>487</td>\n",
       "      <td>4</td>\n",
       "      <td>...</td>\n",
       "      <td>1100</td>\n",
       "      <td>18</td>\n",
       "      <td>5321</td>\n",
       "      <td>6513</td>\n",
       "      <td>13775</td>\n",
       "      <td>13712</td>\n",
       "      <td>20999</td>\n",
       "      <td>120</td>\n",
       "      <td>52747</td>\n",
       "      <td>4141</td>\n",
       "    </tr>\n",
       "  </tbody>\n",
       "</table>\n",
       "<p>5 rows × 24 columns</p>\n",
       "</div>"
      ],
      "text/plain": [
       "  Airport.Code                                       Airport.Name Time.Label  \\\n",
       "0          ATL  Atlanta, GA: Hartsfield-Jackson Atlanta Intern...    2003/06   \n",
       "1          BOS                    Boston, MA: Logan International    2003/06   \n",
       "2          BWI  Baltimore, MD: Baltimore/Washington Internatio...    2003/06   \n",
       "3          CLT     Charlotte, NC: Charlotte Douglas International    2003/06   \n",
       "4          DCA  Washington, DC: Ronald Reagan Washington National    2003/06   \n",
       "\n",
       "   Time.Month Time.Month Name  Time.Year  Statistics.# of Delays.Carrier  \\\n",
       "0           6            June       2003                            1009   \n",
       "1           6            June       2003                             374   \n",
       "2           6            June       2003                             296   \n",
       "3           6            June       2003                             300   \n",
       "4           6            June       2003                             283   \n",
       "\n",
       "   Statistics.# of Delays.Late Aircraft  \\\n",
       "0                                  1275   \n",
       "1                                   495   \n",
       "2                                   477   \n",
       "3                                   472   \n",
       "4                                   268   \n",
       "\n",
       "   Statistics.# of Delays.National Aviation System  \\\n",
       "0                                             3217   \n",
       "1                                              685   \n",
       "2                                              389   \n",
       "3                                              735   \n",
       "4                                              487   \n",
       "\n",
       "   Statistics.# of Delays.Security  ...  Statistics.Flights.Delayed  \\\n",
       "0                               17  ...                        5843   \n",
       "1                                3  ...                        1623   \n",
       "2                                8  ...                        1245   \n",
       "3                                2  ...                        1562   \n",
       "4                                4  ...                        1100   \n",
       "\n",
       "  Statistics.Flights.Diverted  Statistics.Flights.On Time  \\\n",
       "0                          27                       23974   \n",
       "1                           3                        7875   \n",
       "2                          15                        6998   \n",
       "3                          14                        7021   \n",
       "4                          18                        5321   \n",
       "\n",
       "   Statistics.Flights.Total  Statistics.Minutes Delayed.Carrier  \\\n",
       "0                     30060                               61606   \n",
       "1                      9639                               20319   \n",
       "2                      8287                               13635   \n",
       "3                      8670                               14763   \n",
       "4                      6513                               13775   \n",
       "\n",
       "   Statistics.Minutes Delayed.Late Aircraft  \\\n",
       "0                                     68335   \n",
       "1                                     28189   \n",
       "2                                     26810   \n",
       "3                                     23379   \n",
       "4                                     13712   \n",
       "\n",
       "   Statistics.Minutes Delayed.National Aviation System  \\\n",
       "0                                             118831     \n",
       "1                                              24400     \n",
       "2                                              17556     \n",
       "3                                              23804     \n",
       "4                                              20999     \n",
       "\n",
       "   Statistics.Minutes Delayed.Security  Statistics.Minutes Delayed.Total  \\\n",
       "0                                  518                            268764   \n",
       "1                                   99                             77167   \n",
       "2                                  278                             64480   \n",
       "3                                  127                             65865   \n",
       "4                                  120                             52747   \n",
       "\n",
       "   Statistics.Minutes Delayed.Weather  \n",
       "0                               19474  \n",
       "1                                4160  \n",
       "2                                6201  \n",
       "3                                3792  \n",
       "4                                4141  \n",
       "\n",
       "[5 rows x 24 columns]"
      ]
     },
     "execution_count": 72,
     "metadata": {},
     "output_type": "execute_result"
    }
   ],
   "source": [
    "# Prints the first n rows of the dataframe. \n",
    "data_frame.head()\n"
   ]
  },
  {
   "cell_type": "code",
   "execution_count": 73,
   "id": "cbaa1af7-710d-4e87-8028-e9a5df3bc38e",
   "metadata": {},
   "outputs": [
    {
     "data": {
      "text/html": [
       "<div>\n",
       "<style scoped>\n",
       "    .dataframe tbody tr th:only-of-type {\n",
       "        vertical-align: middle;\n",
       "    }\n",
       "\n",
       "    .dataframe tbody tr th {\n",
       "        vertical-align: top;\n",
       "    }\n",
       "\n",
       "    .dataframe thead th {\n",
       "        text-align: right;\n",
       "    }\n",
       "</style>\n",
       "<table border=\"1\" class=\"dataframe\">\n",
       "  <thead>\n",
       "    <tr style=\"text-align: right;\">\n",
       "      <th></th>\n",
       "      <th>Airport.Code</th>\n",
       "      <th>Airport.Name</th>\n",
       "      <th>Time.Label</th>\n",
       "      <th>Time.Month</th>\n",
       "      <th>Time.Month Name</th>\n",
       "      <th>Time.Year</th>\n",
       "      <th>Statistics.# of Delays.Carrier</th>\n",
       "      <th>Statistics.# of Delays.Late Aircraft</th>\n",
       "      <th>Statistics.# of Delays.National Aviation System</th>\n",
       "      <th>Statistics.# of Delays.Security</th>\n",
       "      <th>...</th>\n",
       "      <th>Statistics.Flights.Delayed</th>\n",
       "      <th>Statistics.Flights.Diverted</th>\n",
       "      <th>Statistics.Flights.On Time</th>\n",
       "      <th>Statistics.Flights.Total</th>\n",
       "      <th>Statistics.Minutes Delayed.Carrier</th>\n",
       "      <th>Statistics.Minutes Delayed.Late Aircraft</th>\n",
       "      <th>Statistics.Minutes Delayed.National Aviation System</th>\n",
       "      <th>Statistics.Minutes Delayed.Security</th>\n",
       "      <th>Statistics.Minutes Delayed.Total</th>\n",
       "      <th>Statistics.Minutes Delayed.Weather</th>\n",
       "    </tr>\n",
       "  </thead>\n",
       "  <tbody>\n",
       "    <tr>\n",
       "      <th>4403</th>\n",
       "      <td>SAN</td>\n",
       "      <td>San Diego, CA: San Diego International</td>\n",
       "      <td>2016/01</td>\n",
       "      <td>1</td>\n",
       "      <td>January</td>\n",
       "      <td>2016</td>\n",
       "      <td>280</td>\n",
       "      <td>397</td>\n",
       "      <td>171</td>\n",
       "      <td>2</td>\n",
       "      <td>...</td>\n",
       "      <td>871</td>\n",
       "      <td>18</td>\n",
       "      <td>5030</td>\n",
       "      <td>6016</td>\n",
       "      <td>15482</td>\n",
       "      <td>23023</td>\n",
       "      <td>6021</td>\n",
       "      <td>79</td>\n",
       "      <td>46206</td>\n",
       "      <td>1601</td>\n",
       "    </tr>\n",
       "    <tr>\n",
       "      <th>4404</th>\n",
       "      <td>SEA</td>\n",
       "      <td>Seattle, WA: Seattle/Tacoma International</td>\n",
       "      <td>2016/01</td>\n",
       "      <td>1</td>\n",
       "      <td>January</td>\n",
       "      <td>2016</td>\n",
       "      <td>357</td>\n",
       "      <td>513</td>\n",
       "      <td>351</td>\n",
       "      <td>2</td>\n",
       "      <td>...</td>\n",
       "      <td>1274</td>\n",
       "      <td>31</td>\n",
       "      <td>8330</td>\n",
       "      <td>9739</td>\n",
       "      <td>25461</td>\n",
       "      <td>32693</td>\n",
       "      <td>11466</td>\n",
       "      <td>73</td>\n",
       "      <td>74017</td>\n",
       "      <td>4324</td>\n",
       "    </tr>\n",
       "    <tr>\n",
       "      <th>4405</th>\n",
       "      <td>SFO</td>\n",
       "      <td>San Francisco, CA: San Francisco International</td>\n",
       "      <td>2016/01</td>\n",
       "      <td>1</td>\n",
       "      <td>January</td>\n",
       "      <td>2016</td>\n",
       "      <td>560</td>\n",
       "      <td>947</td>\n",
       "      <td>2194</td>\n",
       "      <td>2</td>\n",
       "      <td>...</td>\n",
       "      <td>3825</td>\n",
       "      <td>20</td>\n",
       "      <td>8912</td>\n",
       "      <td>13206</td>\n",
       "      <td>43641</td>\n",
       "      <td>72557</td>\n",
       "      <td>153416</td>\n",
       "      <td>66</td>\n",
       "      <td>278610</td>\n",
       "      <td>8930</td>\n",
       "    </tr>\n",
       "    <tr>\n",
       "      <th>4406</th>\n",
       "      <td>SLC</td>\n",
       "      <td>Salt Lake City, UT: Salt Lake City International</td>\n",
       "      <td>2016/01</td>\n",
       "      <td>1</td>\n",
       "      <td>January</td>\n",
       "      <td>2016</td>\n",
       "      <td>338</td>\n",
       "      <td>540</td>\n",
       "      <td>253</td>\n",
       "      <td>3</td>\n",
       "      <td>...</td>\n",
       "      <td>1175</td>\n",
       "      <td>14</td>\n",
       "      <td>7426</td>\n",
       "      <td>8699</td>\n",
       "      <td>32066</td>\n",
       "      <td>33682</td>\n",
       "      <td>8057</td>\n",
       "      <td>57</td>\n",
       "      <td>76978</td>\n",
       "      <td>3116</td>\n",
       "    </tr>\n",
       "    <tr>\n",
       "      <th>4407</th>\n",
       "      <td>TPA</td>\n",
       "      <td>Tampa, FL: Tampa International</td>\n",
       "      <td>2016/01</td>\n",
       "      <td>1</td>\n",
       "      <td>January</td>\n",
       "      <td>2016</td>\n",
       "      <td>410</td>\n",
       "      <td>342</td>\n",
       "      <td>312</td>\n",
       "      <td>2</td>\n",
       "      <td>...</td>\n",
       "      <td>1095</td>\n",
       "      <td>7</td>\n",
       "      <td>4748</td>\n",
       "      <td>5996</td>\n",
       "      <td>22557</td>\n",
       "      <td>21164</td>\n",
       "      <td>11423</td>\n",
       "      <td>37</td>\n",
       "      <td>57774</td>\n",
       "      <td>2593</td>\n",
       "    </tr>\n",
       "  </tbody>\n",
       "</table>\n",
       "<p>5 rows × 24 columns</p>\n",
       "</div>"
      ],
      "text/plain": [
       "     Airport.Code                                      Airport.Name  \\\n",
       "4403          SAN            San Diego, CA: San Diego International   \n",
       "4404          SEA         Seattle, WA: Seattle/Tacoma International   \n",
       "4405          SFO    San Francisco, CA: San Francisco International   \n",
       "4406          SLC  Salt Lake City, UT: Salt Lake City International   \n",
       "4407          TPA                    Tampa, FL: Tampa International   \n",
       "\n",
       "     Time.Label  Time.Month Time.Month Name  Time.Year  \\\n",
       "4403    2016/01           1         January       2016   \n",
       "4404    2016/01           1         January       2016   \n",
       "4405    2016/01           1         January       2016   \n",
       "4406    2016/01           1         January       2016   \n",
       "4407    2016/01           1         January       2016   \n",
       "\n",
       "      Statistics.# of Delays.Carrier  Statistics.# of Delays.Late Aircraft  \\\n",
       "4403                             280                                   397   \n",
       "4404                             357                                   513   \n",
       "4405                             560                                   947   \n",
       "4406                             338                                   540   \n",
       "4407                             410                                   342   \n",
       "\n",
       "      Statistics.# of Delays.National Aviation System  \\\n",
       "4403                                              171   \n",
       "4404                                              351   \n",
       "4405                                             2194   \n",
       "4406                                              253   \n",
       "4407                                              312   \n",
       "\n",
       "      Statistics.# of Delays.Security  ...  Statistics.Flights.Delayed  \\\n",
       "4403                                2  ...                         871   \n",
       "4404                                2  ...                        1274   \n",
       "4405                                2  ...                        3825   \n",
       "4406                                3  ...                        1175   \n",
       "4407                                2  ...                        1095   \n",
       "\n",
       "     Statistics.Flights.Diverted  Statistics.Flights.On Time  \\\n",
       "4403                          18                        5030   \n",
       "4404                          31                        8330   \n",
       "4405                          20                        8912   \n",
       "4406                          14                        7426   \n",
       "4407                           7                        4748   \n",
       "\n",
       "      Statistics.Flights.Total  Statistics.Minutes Delayed.Carrier  \\\n",
       "4403                      6016                               15482   \n",
       "4404                      9739                               25461   \n",
       "4405                     13206                               43641   \n",
       "4406                      8699                               32066   \n",
       "4407                      5996                               22557   \n",
       "\n",
       "      Statistics.Minutes Delayed.Late Aircraft  \\\n",
       "4403                                     23023   \n",
       "4404                                     32693   \n",
       "4405                                     72557   \n",
       "4406                                     33682   \n",
       "4407                                     21164   \n",
       "\n",
       "      Statistics.Minutes Delayed.National Aviation System  \\\n",
       "4403                                               6021     \n",
       "4404                                              11466     \n",
       "4405                                             153416     \n",
       "4406                                               8057     \n",
       "4407                                              11423     \n",
       "\n",
       "      Statistics.Minutes Delayed.Security  Statistics.Minutes Delayed.Total  \\\n",
       "4403                                   79                             46206   \n",
       "4404                                   73                             74017   \n",
       "4405                                   66                            278610   \n",
       "4406                                   57                             76978   \n",
       "4407                                   37                             57774   \n",
       "\n",
       "      Statistics.Minutes Delayed.Weather  \n",
       "4403                                1601  \n",
       "4404                                4324  \n",
       "4405                                8930  \n",
       "4406                                3116  \n",
       "4407                                2593  \n",
       "\n",
       "[5 rows x 24 columns]"
      ]
     },
     "execution_count": 73,
     "metadata": {},
     "output_type": "execute_result"
    }
   ],
   "source": [
    "# print last rows of Data frame\n",
    "data_frame.tail()"
   ]
  },
  {
   "cell_type": "code",
   "execution_count": 74,
   "id": "a0a8cac2-1cd8-4dab-9bc6-774be494a6d8",
   "metadata": {},
   "outputs": [
    {
     "name": "stdout",
     "output_type": "stream",
     "text": [
      "<class 'pandas.core.frame.DataFrame'>\n",
      "RangeIndex: 4408 entries, 0 to 4407\n",
      "Data columns (total 24 columns):\n",
      " #   Column                                               Non-Null Count  Dtype \n",
      "---  ------                                               --------------  ----- \n",
      " 0   Airport.Code                                         4408 non-null   object\n",
      " 1   Airport.Name                                         4408 non-null   object\n",
      " 2   Time.Label                                           4408 non-null   object\n",
      " 3   Time.Month                                           4408 non-null   int64 \n",
      " 4   Time.Month Name                                      4408 non-null   object\n",
      " 5   Time.Year                                            4408 non-null   int64 \n",
      " 6   Statistics.# of Delays.Carrier                       4408 non-null   int64 \n",
      " 7   Statistics.# of Delays.Late Aircraft                 4408 non-null   int64 \n",
      " 8   Statistics.# of Delays.National Aviation System      4408 non-null   int64 \n",
      " 9   Statistics.# of Delays.Security                      4408 non-null   int64 \n",
      " 10  Statistics.# of Delays.Weather                       4408 non-null   int64 \n",
      " 11  Statistics.Carriers.Names                            4408 non-null   object\n",
      " 12  Statistics.Carriers.Total                            4408 non-null   int64 \n",
      " 13  Statistics.Flights.Cancelled                         4408 non-null   int64 \n",
      " 14  Statistics.Flights.Delayed                           4408 non-null   int64 \n",
      " 15  Statistics.Flights.Diverted                          4408 non-null   int64 \n",
      " 16  Statistics.Flights.On Time                           4408 non-null   int64 \n",
      " 17  Statistics.Flights.Total                             4408 non-null   int64 \n",
      " 18  Statistics.Minutes Delayed.Carrier                   4408 non-null   int64 \n",
      " 19  Statistics.Minutes Delayed.Late Aircraft             4408 non-null   int64 \n",
      " 20  Statistics.Minutes Delayed.National Aviation System  4408 non-null   int64 \n",
      " 21  Statistics.Minutes Delayed.Security                  4408 non-null   int64 \n",
      " 22  Statistics.Minutes Delayed.Total                     4408 non-null   int64 \n",
      " 23  Statistics.Minutes Delayed.Weather                   4408 non-null   int64 \n",
      "dtypes: int64(19), object(5)\n",
      "memory usage: 826.6+ KB\n",
      "None\n"
     ]
    }
   ],
   "source": [
    "#prints the basic information about the data\n",
    "print(data_frame.info())"
   ]
  },
  {
   "cell_type": "code",
   "execution_count": 76,
   "id": "6710521d-eeab-46d3-a7db-747971770ca3",
   "metadata": {},
   "outputs": [
    {
     "name": "stdout",
     "output_type": "stream",
     "text": [
      "        Time.Month    Time.Year  Statistics.# of Delays.Carrier  \\\n",
      "count  4408.000000  4408.000000                     4408.000000   \n",
      "mean      6.578947  2009.243421                      574.632486   \n",
      "std       3.457890     3.667475                      329.616475   \n",
      "min       1.000000  2003.000000                      112.000000   \n",
      "25%       4.000000  2006.000000                      358.000000   \n",
      "50%       7.000000  2009.000000                      476.000000   \n",
      "75%      10.000000  2012.000000                      692.000000   \n",
      "max      12.000000  2016.000000                     3087.000000   \n",
      "\n",
      "       Statistics.# of Delays.Late Aircraft  \\\n",
      "count                           4408.000000   \n",
      "mean                             789.078947   \n",
      "std                              561.798420   \n",
      "min                               86.000000   \n",
      "25%                              425.000000   \n",
      "50%                              618.500000   \n",
      "75%                              959.000000   \n",
      "max                             4483.000000   \n",
      "\n",
      "       Statistics.# of Delays.National Aviation System  \\\n",
      "count                                      4408.000000   \n",
      "mean                                        954.580309   \n",
      "std                                         921.907801   \n",
      "min                                          61.000000   \n",
      "25%                                         399.000000   \n",
      "50%                                         667.500000   \n",
      "75%                                        1166.000000   \n",
      "max                                        9066.000000   \n",
      "\n",
      "       Statistics.# of Delays.Security  Statistics.# of Delays.Weather  \\\n",
      "count                      4408.000000                     4408.000000   \n",
      "mean                          5.575544                       78.216878   \n",
      "std                           6.007046                       75.181726   \n",
      "min                          -1.000000                        1.000000   \n",
      "25%                           2.000000                       33.000000   \n",
      "50%                           4.000000                       58.000000   \n",
      "75%                           7.000000                       98.000000   \n",
      "max                          94.000000                      812.000000   \n",
      "\n",
      "       Statistics.Carriers.Total  Statistics.Flights.Cancelled  \\\n",
      "count                4408.000000                   4408.000000   \n",
      "mean                   12.253403                    213.558076   \n",
      "std                     2.289861                    288.873477   \n",
      "min                     3.000000                      3.000000   \n",
      "25%                    11.000000                     58.000000   \n",
      "50%                    12.000000                    123.000000   \n",
      "75%                    14.000000                    250.000000   \n",
      "max                    18.000000                   3680.000000   \n",
      "\n",
      "       Statistics.Flights.Delayed  Statistics.Flights.Diverted  \\\n",
      "count                 4408.000000                  4408.000000   \n",
      "mean                  2402.000454                    27.880898   \n",
      "std                   1710.947613                    36.356399   \n",
      "min                    283.000000                     0.000000   \n",
      "25%                   1298.750000                     8.000000   \n",
      "50%                   1899.000000                    15.000000   \n",
      "75%                   2950.000000                    32.000000   \n",
      "max                  13699.000000                   442.000000   \n",
      "\n",
      "       Statistics.Flights.On Time  Statistics.Flights.Total  \\\n",
      "count                 4408.000000               4408.000000   \n",
      "mean                  9254.420826              11897.860254   \n",
      "std                   5337.214211               6861.691876   \n",
      "min                   2003.000000               2533.000000   \n",
      "25%                   5708.750000               7400.000000   \n",
      "50%                   7477.000000               9739.500000   \n",
      "75%                  10991.500000              13842.500000   \n",
      "max                  31468.000000              38241.000000   \n",
      "\n",
      "       Statistics.Minutes Delayed.Carrier  \\\n",
      "count                         4408.000000   \n",
      "mean                         35021.369782   \n",
      "std                          24327.721037   \n",
      "min                           6016.000000   \n",
      "25%                          19530.750000   \n",
      "50%                          27782.000000   \n",
      "75%                          41606.000000   \n",
      "max                         220796.000000   \n",
      "\n",
      "       Statistics.Minutes Delayed.Late Aircraft  \\\n",
      "count                               4408.000000   \n",
      "mean                               49410.274955   \n",
      "std                                38750.017050   \n",
      "min                                 5121.000000   \n",
      "25%                                25084.250000   \n",
      "50%                                37483.000000   \n",
      "75%                                59951.250000   \n",
      "max                               345456.000000   \n",
      "\n",
      "       Statistics.Minutes Delayed.National Aviation System  \\\n",
      "count                                        4408.000000     \n",
      "mean                                        45077.107985     \n",
      "std                                         57636.745683     \n",
      "min                                          2183.000000     \n",
      "25%                                         14389.000000     \n",
      "50%                                         25762.000000     \n",
      "75%                                         50362.000000     \n",
      "max                                        602479.000000     \n",
      "\n",
      "       Statistics.Minutes Delayed.Security  Statistics.Minutes Delayed.Total  \\\n",
      "count                          4408.000000                       4408.000000   \n",
      "mean                            211.769737                     135997.535163   \n",
      "std                             257.174789                     113972.276370   \n",
      "min                               0.000000                      14752.000000   \n",
      "25%                              65.000000                      65444.750000   \n",
      "50%                             141.000000                     100711.000000   \n",
      "75%                             274.000000                     164294.750000   \n",
      "max                            4949.000000                     989367.000000   \n",
      "\n",
      "       Statistics.Minutes Delayed.Weather  \n",
      "count                         4408.000000  \n",
      "mean                          6276.982759  \n",
      "std                           6477.417169  \n",
      "min                             46.000000  \n",
      "25%                           2310.750000  \n",
      "50%                           4298.500000  \n",
      "75%                           7846.000000  \n",
      "max                          76770.000000  \n"
     ]
    }
   ],
   "source": [
    "#prints the discriptive information about the data frame\n",
    "print(data_frame.describe())\n",
    "#after applying the describe how we can find the outliner availabe in columns "
   ]
  },
  {
   "cell_type": "code",
   "execution_count": null,
   "id": "2af9630c-fb35-43d2-85ae-63e5f36b72dd",
   "metadata": {},
   "outputs": [],
   "source": []
  }
 ],
 "metadata": {
  "kernelspec": {
   "display_name": "Python 3 (ipykernel)",
   "language": "python",
   "name": "python3"
  },
  "language_info": {
   "codemirror_mode": {
    "name": "ipython",
    "version": 3
   },
   "file_extension": ".py",
   "mimetype": "text/x-python",
   "name": "python",
   "nbconvert_exporter": "python",
   "pygments_lexer": "ipython3",
   "version": "3.12.3"
  }
 },
 "nbformat": 4,
 "nbformat_minor": 5
}
