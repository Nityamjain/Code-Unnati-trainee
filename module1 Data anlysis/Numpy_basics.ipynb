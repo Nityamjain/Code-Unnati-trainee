{
 "cells": [
  {
   "cell_type": "markdown",
   "id": "1542dfaa-36af-4e77-8196-d1ec78ceade2",
   "metadata": {},
   "source": [
    "**import numpy as np**"
   ]
  },
  {
   "cell_type": "code",
   "execution_count": 1,
   "id": "345ce27f-406b-40f7-b799-e98ec6f2e91e",
   "metadata": {},
   "outputs": [],
   "source": [
    "import numpy as np"
   ]
  },
  {
   "cell_type": "code",
   "execution_count": 5,
   "id": "1a522a9d-09b4-4bfe-82e6-6a4ec2956227",
   "metadata": {},
   "outputs": [],
   "source": [
    "one_d_array = np.array([1,2,3])"
   ]
  },
  {
   "cell_type": "code",
   "execution_count": 6,
   "id": "723940d0-9b62-4954-8370-2b9aa8b710d4",
   "metadata": {},
   "outputs": [
    {
     "data": {
      "text/plain": [
       "array([1, 2, 3])"
      ]
     },
     "execution_count": 6,
     "metadata": {},
     "output_type": "execute_result"
    }
   ],
   "source": [
    "one_d_array"
   ]
  },
  {
   "cell_type": "code",
   "execution_count": 10,
   "id": "77400f68-7e95-446f-8432-9c680f18f34b",
   "metadata": {},
   "outputs": [
    {
     "name": "stdout",
     "output_type": "stream",
     "text": [
      "(3,)\n",
      "1\n"
     ]
    }
   ],
   "source": [
    "print(one_d_array.shape)\n",
    "print(one_d_array.ndim)"
   ]
  },
  {
   "cell_type": "code",
   "execution_count": 11,
   "id": "f6ef44e7-23cd-48c9-89f7-04800e922f6a",
   "metadata": {},
   "outputs": [],
   "source": [
    "arr1 = np.array([[1,2,3],[4,5,5]])"
   ]
  },
  {
   "cell_type": "code",
   "execution_count": 12,
   "id": "79b44b32-0863-4f83-bee6-37b31882aaf7",
   "metadata": {},
   "outputs": [
    {
     "data": {
      "text/plain": [
       "array([[1, 2, 3],\n",
       "       [4, 5, 5]])"
      ]
     },
     "execution_count": 12,
     "metadata": {},
     "output_type": "execute_result"
    }
   ],
   "source": [
    "arr1"
   ]
  },
  {
   "cell_type": "markdown",
   "id": "50978901-df83-467c-a3a1-41b2a40055df",
   "metadata": {},
   "source": [
    "## numpy vs list"
   ]
  },
  {
   "cell_type": "code",
   "execution_count": 13,
   "id": "b04373e1-083c-44fa-842b-ee79235c197c",
   "metadata": {},
   "outputs": [],
   "source": [
    "#less memeory "
   ]
  },
  {
   "cell_type": "code",
   "execution_count": 14,
   "id": "5fe51e4a-c712-4c1b-87cd-7713ce03b733",
   "metadata": {},
   "outputs": [],
   "source": [
    "import sys "
   ]
  },
  {
   "cell_type": "code",
   "execution_count": 16,
   "id": "cc07ce78-a4c5-46a2-9308-beb5fa870825",
   "metadata": {},
   "outputs": [
    {
     "name": "stdout",
     "output_type": "stream",
     "text": [
      "7\n"
     ]
    }
   ],
   "source": [
    "sl = [1,2,3,4,5,6,7]\n",
    "print(len(sl))"
   ]
  },
  {
   "cell_type": "code",
   "execution_count": 18,
   "id": "b96aef55-a94c-4e70-b3ca-4a5095c0b1cc",
   "metadata": {},
   "outputs": [
    {
     "name": "stdout",
     "output_type": "stream",
     "text": [
      "Length of List array:  10\n",
      "Type of array:  <class 'list'>\n",
      "Memory consumption by an element in the array:  28\n",
      "Memory usage by list array:  280\n",
      "Length of NumPy array:  10\n",
      "Type of array:  <class 'numpy.ndarray'>\n",
      "Memory consumption by an element in the array:  4\n",
      "Memory usage by list array:  40\n"
     ]
    }
   ],
   "source": [
    "import sys\n",
    "\n",
    "# declaring a list of 10 elements  \n",
    "sample_list = [0,1,2,3,4,5,6,7,8,9] \n",
    "\n",
    "print(\"Length of List array: \",len(sample_list))\n",
    "\n",
    "print(\"Type of array: \",type(sample_list))\n",
    "\n",
    "print(\"Memory consumption by an element in the array: \",\n",
    "        sys.getsizeof(sample_list[0]))\n",
    "\n",
    "print(\"Memory usage by list array: \",\n",
    "        (sys.getsizeof(sample_list[0]))*len(sample_list))\n",
    "\n",
    "\n",
    "numpy_array = np.array([0,1,2,3,4,5,6,7,8,9])\n",
    "\n",
    "print(\"Length of NumPy array: \",len(numpy_array))\n",
    "\n",
    "print(\"Type of array: \",type(numpy_array))\n",
    "\n",
    "print(\"Memory consumption by an element in the array: \",\n",
    "        numpy_array.itemsize)\n",
    "\n",
    "print(\"Memory usage by list array: \",\n",
    "        numpy_array.itemsize*numpy_array.size)\n",
    "\n",
    "\n"
   ]
  },
  {
   "cell_type": "code",
   "execution_count": 19,
   "id": "3e9c52ab-fa07-45b4-ae13-fd8eeb4e28ef",
   "metadata": {},
   "outputs": [
    {
     "name": "stdout",
     "output_type": "stream",
     "text": [
      "Lists don't support list + int\n",
      "Modified Numpy array:  [15 16 17]\n"
     ]
    }
   ],
   "source": [
    "# declaring a list \n",
    "ls =[11, 12, 13] \n",
    "  \n",
    "# converting the list into a Numpy array \n",
    "arr = np.array(ls) \n",
    "  \n",
    "try: \n",
    "    # adding 4 to each element of list \n",
    "    ls = ls + 4\n",
    "      \n",
    "except(TypeError): \n",
    "    print(\"Lists don't support list + int\") \n",
    "  \n",
    "# now on array \n",
    "try: \n",
    "    # adding 4 to each element of Numpy array \n",
    "    arr = arr + 4\n",
    "  \n",
    "    # printing the Numpy array \n",
    "    print(\"Modified Numpy array: \",arr) \n",
    "      \n",
    "except(TypeError): \n",
    "    print(\"Numpy arrays don't support list + int\") \n"
   ]
  },
  {
   "cell_type": "code",
   "execution_count": 20,
   "id": "1746653e-a1d1-4d2c-a56e-ffcb7b61de64",
   "metadata": {},
   "outputs": [
    {
     "name": "stdout",
     "output_type": "stream",
     "text": [
      "[1. 1. 1.]\n",
      "\n",
      " [[1 1 1]\n",
      " [1 1 1]]\n"
     ]
    }
   ],
   "source": [
    "\n",
    "# Intializing the array with ones\n",
    "ones_array = np.ones((3)) # Default dtype = float\n",
    "print(ones_array)\n",
    "\n",
    "ones2d_array = np.ones((2,3) , dtype=int)\n",
    "print('\\n',ones2d_array)\n"
   ]
  },
  {
   "cell_type": "code",
   "execution_count": 21,
   "id": "55e4ef59-f52c-477b-b41a-e5fc468f5504",
   "metadata": {},
   "outputs": [
    {
     "name": "stdout",
     "output_type": "stream",
     "text": [
      "[[0. 0. 0.]\n",
      " [0. 0. 0.]\n",
      " [0. 0. 0.]]\n"
     ]
    }
   ],
   "source": [
    "\n",
    "# Intializing the array with zeros\n",
    "zeros_array = np.zeros((3,3)) # Default dtype = float\n",
    "print(zeros_array)\n"
   ]
  },
  {
   "cell_type": "code",
   "execution_count": 25,
   "id": "48d8dd57-87e4-49cd-bdf4-75704da972a8",
   "metadata": {},
   "outputs": [
    {
     "name": "stdout",
     "output_type": "stream",
     "text": [
      "[0.04291298 0.38809569 0.55843199]\n"
     ]
    }
   ],
   "source": [
    "random_array = np.random.random((3))\n",
    "print(random_array)\n"
   ]
  },
  {
   "cell_type": "code",
   "execution_count": 26,
   "id": "c01685af-a996-47da-9826-d38f931084e1",
   "metadata": {},
   "outputs": [
    {
     "name": "stdout",
     "output_type": "stream",
     "text": [
      "[0.52663574 0.18897739 0.29319831]\n"
     ]
    }
   ],
   "source": [
    "\n",
    "random_array = np.random.random((3))\n",
    "print(random_array)\n"
   ]
  },
  {
   "cell_type": "code",
   "execution_count": 27,
   "id": "cb81e4c1-5814-4e9b-bd43-b12e24204e0e",
   "metadata": {},
   "outputs": [
    {
     "name": "stdout",
     "output_type": "stream",
     "text": [
      "\n",
      "\n",
      "[[0.55036753 0.1956091  0.31965408]\n",
      " [0.04181547 0.96970528 0.00154031]\n",
      " [0.67953439 0.12260491 0.31001926]]\n"
     ]
    }
   ],
   "source": [
    "# 2 d array with random values\n",
    "random_array2D = np.random.random((3,3))\n",
    "print(\"\\n\")\n",
    "print(random_array2D)\n"
   ]
  },
  {
   "cell_type": "code",
   "execution_count": 28,
   "id": "d3acac5a-7e54-422c-a816-375f6d7f26bf",
   "metadata": {},
   "outputs": [
    {
     "name": "stdout",
     "output_type": "stream",
     "text": [
      "[[20 20 20]\n",
      " [20 20 20]\n",
      " [20 20 20]]\n"
     ]
    }
   ],
   "source": [
    "# To get an array with specified input element of desired shape\n",
    "array = np.full((3,3),20)\n",
    "print(array)\n"
   ]
  },
  {
   "cell_type": "code",
   "execution_count": 30,
   "id": "3fa72369-c34c-4224-836d-b0abd008a74f",
   "metadata": {},
   "outputs": [
    {
     "name": "stdout",
     "output_type": "stream",
     "text": [
      "[[1. 0. 0. 0. 0. 0.]\n",
      " [0. 1. 0. 0. 0. 0.]\n",
      " [0. 0. 1. 0. 0. 0.]\n",
      " [0. 0. 0. 1. 0. 0.]\n",
      " [0. 0. 0. 0. 1. 0.]\n",
      " [0. 0. 0. 0. 0. 1.]]\n"
     ]
    }
   ],
   "source": [
    "# Print an identity matrix\n",
    "identity_array = np.identity(6)\n",
    "print(identity_array)\n"
   ]
  },
  {
   "cell_type": "code",
   "execution_count": 31,
   "id": "d825c727-eede-40fe-bdb0-9a525a63367d",
   "metadata": {},
   "outputs": [
    {
     "data": {
      "text/plain": [
       "array([0, 1, 2, 3, 4])"
      ]
     },
     "execution_count": 31,
     "metadata": {},
     "output_type": "execute_result"
    }
   ],
   "source": [
    "# Array with values from 0 to 5\n",
    "array_with_arange = np.arange(5)\n",
    "array_with_arange\n"
   ]
  },
  {
   "cell_type": "code",
   "execution_count": 33,
   "id": "9e410b55-958c-4942-8544-dffa8caacd2a",
   "metadata": {},
   "outputs": [
    {
     "name": "stdout",
     "output_type": "stream",
     "text": [
      "[5 6 7 8 9]\n"
     ]
    }
   ],
   "source": [
    "\n",
    "# create an array with elements from 5 to 10 (exclusive)\n",
    "# Parameters for the function - np.arange(start, stop, step, dtype)\n",
    "array1 = np.arange(5, 10)\n",
    "print(array1)\n"
   ]
  },
  {
   "cell_type": "code",
   "execution_count": 34,
   "id": "a673f031-dcef-40cc-b1c0-f2e1fb6b5464",
   "metadata": {},
   "outputs": [
    {
     "name": "stdout",
     "output_type": "stream",
     "text": [
      "[ 5  7  9 11 13]\n"
     ]
    }
   ],
   "source": [
    "# create an array with elements from 5 to 15 with stepsize 2\n",
    "array2 = np.arange(5, 15, 2)\n",
    "print(array2)\n"
   ]
  },
  {
   "cell_type": "code",
   "execution_count": 35,
   "id": "663eef6f-b9bc-4458-bcd2-969bcb2a77fd",
   "metadata": {},
   "outputs": [
    {
     "name": "stdout",
     "output_type": "stream",
     "text": [
      "[ 5.          5.26315789  5.52631579  5.78947368  6.05263158  6.31578947\n",
      "  6.57894737  6.84210526  7.10526316  7.36842105  7.63157895  7.89473684\n",
      "  8.15789474  8.42105263  8.68421053  8.94736842  9.21052632  9.47368421\n",
      "  9.73684211 10.        ]\n"
     ]
    }
   ],
   "source": [
    "# create an array with 3 elements between 5 and 10\n",
    "linspace_array1 = np.linspace(5, 10, 20)\n",
    "\n",
    "print(linspace_array1)\n"
   ]
  },
  {
   "cell_type": "code",
   "execution_count": 37,
   "id": "08401500-5ba5-4ee0-b7ad-d4d96bd76909",
   "metadata": {},
   "outputs": [
    {
     "name": "stdout",
     "output_type": "stream",
     "text": [
      "[2.  2.2 2.4 2.6 2.8]\n"
     ]
    }
   ],
   "source": [
    "# create an array of 5 elements between 2.0 and 3.0 excluding the endpoint\n",
    "linspace_array2 = np.linspace(2.0, 3.0, num=5, endpoint=False)\n",
    "print(linspace_array2)\n"
   ]
  },
  {
   "cell_type": "code",
   "execution_count": 38,
   "id": "5ceafce4-1e8d-407e-b669-121934bd62ee",
   "metadata": {},
   "outputs": [
    {
     "name": "stdout",
     "output_type": "stream",
     "text": [
      "(array([2.  , 2.25, 2.5 , 2.75, 3.  ]), 0.25)\n"
     ]
    }
   ],
   "source": [
    "\n",
    "# create an array of 5 elements between 2.0 and 3.0 with the step size included\n",
    "linspace_array3 = np.linspace(2.0, 3.0, num=5, retstep=True)\n",
    "print(linspace_array3)\n"
   ]
  },
  {
   "cell_type": "code",
   "execution_count": 39,
   "id": "4b69986d-3b11-4482-be52-59646eeb31ad",
   "metadata": {},
   "outputs": [
    {
     "name": "stdout",
     "output_type": "stream",
     "text": [
      "[ 2  4  6  8 10]\n",
      "<class 'numpy.ndarray'>\n"
     ]
    }
   ],
   "source": [
    "# Create list\n",
    "my_list = [2,4,6,8,10]\n",
    "\n",
    "# convert python list into numpy array\n",
    "my_array = np.asarray(my_list)\n",
    "\n",
    "# printing my_array\n",
    "print(my_array)\n",
    "\n",
    "# printing the type of my_array\n",
    "print(type(my_array))\n"
   ]
  },
  {
   "cell_type": "code",
   "execution_count": 40,
   "id": "e11e66a0-13d6-479f-8a4d-4537d69f0e47",
   "metadata": {},
   "outputs": [
    {
     "name": "stdout",
     "output_type": "stream",
     "text": [
      "[1 2 3]\n"
     ]
    }
   ],
   "source": [
    "# convert tuple to ndarray\n",
    "my_tuple = (1,2,3) \n",
    "array = np.asarray(my_tuple) \n",
    "print(array)\n"
   ]
  },
  {
   "cell_type": "markdown",
   "id": "de108606-6223-438c-b2f0-70f638f68029",
   "metadata": {},
   "source": [
    "## Indexing and slicing of array"
   ]
  },
  {
   "cell_type": "code",
   "execution_count": 42,
   "id": "d0175b4e-f87a-4bf6-a76c-6b9bb8983fa1",
   "metadata": {},
   "outputs": [
    {
     "name": "stdout",
     "output_type": "stream",
     "text": [
      "1\n",
      "3\n",
      "9\n",
      "7\n"
     ]
    }
   ],
   "source": [
    "# Accessing element in 1 d numpy array\n",
    "data = np.array([1, 3, 5,7,9])\n",
    "print(data[0])\n",
    "print(data[1])\n",
    "\n",
    "# Accessing element through negative indexing\n",
    "print(data[-1])\n",
    "print(data[-2])\n",
    "\n"
   ]
  },
  {
   "cell_type": "code",
   "execution_count": 43,
   "id": "c9db514a-eabb-40c6-b534-d55129046066",
   "metadata": {},
   "outputs": [
    {
     "name": "stdout",
     "output_type": "stream",
     "text": [
      "[1 3 5]\n",
      "[1 3]\n",
      "[1 3]\n"
     ]
    }
   ],
   "source": [
    "# Slice 1 d array\n",
    "#start, stop, step\n",
    "print(data[0:3])\n",
    "print(data[0:2])\n",
    "print(data[:2])\n"
   ]
  },
  {
   "cell_type": "code",
   "execution_count": 44,
   "id": "27c37a4d-735c-44f5-9563-9e477a5158f6",
   "metadata": {},
   "outputs": [
    {
     "name": "stdout",
     "output_type": "stream",
     "text": [
      "[11 22 33 44 55 66 77 88 99]\n",
      "[11 22 33 44 55 66 77 88 99]\n",
      "[11 33 55 77 99]\n",
      "[99 88 77 66 55 44 33 22 11]\n"
     ]
    }
   ],
   "source": [
    "# Print all elements of array\n",
    "num_data = np.array([11, 22, 33,44,55,66,77,88,99])\n",
    "print(num_data[:])\n",
    "\n",
    "# Use step size=1\n",
    "print(num_data[::1])# start and stop parameters is unspecified\n",
    "\n",
    "# Use step size=2\n",
    "print(num_data[::2])\n",
    "\n",
    "#Print all elements in reverse order\n",
    "print(num_data[::-1])\n"
   ]
  },
  {
   "cell_type": "code",
   "execution_count": 45,
   "id": "0a1ddaca-daa8-4037-9e29-aa98f0dfeeea",
   "metadata": {},
   "outputs": [
    {
     "name": "stdout",
     "output_type": "stream",
     "text": [
      "2\n",
      "6\n"
     ]
    }
   ],
   "source": [
    "# retrieving elements from a 2-D array\n",
    "\n",
    "data = np.array([[1,2,3],[4,5,6]])\n",
    "print(data[0,1])\n",
    "print(data[1,2])\n"
   ]
  },
  {
   "cell_type": "code",
   "execution_count": 46,
   "id": "06c75bb3-948f-4439-ba68-54546bb9c730",
   "metadata": {},
   "outputs": [
    {
     "name": "stdout",
     "output_type": "stream",
     "text": [
      "[[11 22 33]\n",
      " [44 55 66]\n",
      " [77 88 99]]\n",
      "\n",
      " [11 22 33]\n",
      "\n",
      " [44 55 66]\n"
     ]
    }
   ],
   "source": [
    "\n",
    "data = np.array([[11,22,33],[44,55,66],[77,88,99]])\n",
    "# Print entire array\n",
    "print(data)\n",
    "\n",
    "# Print first row\n",
    "print(\"\\n\",data[0])\n",
    "\n",
    "# Print Second row only\n",
    "print(\"\\n\",data[1])\n"
   ]
  },
  {
   "cell_type": "code",
   "execution_count": 47,
   "id": "7b40362a-075e-4865-9e1b-450705a6f298",
   "metadata": {},
   "outputs": [
    {
     "name": "stdout",
     "output_type": "stream",
     "text": [
      "\n",
      " [[11]\n",
      " [44]\n",
      " [77]]\n",
      "\n",
      " [[11]\n",
      " [77]]\n"
     ]
    }
   ],
   "source": [
    "# Print first column only\n",
    "print(\"\\n\",data[:,:1:1])\n",
    "\n",
    "# Print First column with step size\n",
    "print(\"\\n\",data[0::2,0:1])\n"
   ]
  },
  {
   "cell_type": "code",
   "execution_count": 48,
   "id": "c5142e0b-c58a-4c7d-b4f0-87bd7bce12ac",
   "metadata": {},
   "outputs": [
    {
     "name": "stdout",
     "output_type": "stream",
     "text": [
      "[[[ 1  2]\n",
      "  [ 3  4]\n",
      "  [ 5  6]]\n",
      "\n",
      " [[ 7  8]\n",
      "  [ 9 10]\n",
      "  [11 12]]]\n",
      "[[[ 4]\n",
      "  [ 6]]\n",
      "\n",
      " [[10]\n",
      "  [12]]]\n"
     ]
    }
   ],
   "source": [
    "# For 3-D array slicing the format is array[index,row,column]\n",
    "a = np.array([[[1,2],[3,4],[5,6]],\n",
    "             [[7,8],[9,10],[11,12]],\n",
    "             [[13,14],[15,16],[17,18]]])\n",
    "# print(a)\n",
    "print(a[0:2])\n",
    "print(a[0:2,1:,1:])\n"
   ]
  },
  {
   "cell_type": "markdown",
   "id": "b4ac5a93-183e-4b17-ae3c-6891a433a5fa",
   "metadata": {},
   "source": [
    "## Array manipulation"
   ]
  },
  {
   "cell_type": "code",
   "execution_count": 49,
   "id": "fb60f738-0980-465e-8c87-1263dfedf711",
   "metadata": {},
   "outputs": [
    {
     "name": "stdout",
     "output_type": "stream",
     "text": [
      "[[1 2 3]\n",
      " [4 5 6]]\n",
      "\n",
      " [[1 2]\n",
      " [3 4]\n",
      " [5 6]]\n"
     ]
    }
   ],
   "source": [
    "array1 = np.array([1, 2, 3, 4, 5, 6])\n",
    "\n",
    "# reshape a 1D array into a 2D array \n",
    "# with 2 rows and 4 columns\n",
    "result = np.reshape(array1, (2, 3))\n",
    "print(result)\n",
    "\n",
    "# reshape a 1D array into a 2D array \n",
    "# with 3 rows and 2 columns\n",
    "result = np.reshape(array1, (3, 2))\n",
    "print(\"\\n\",result)\n"
   ]
  },
  {
   "cell_type": "code",
   "execution_count": 50,
   "id": "0a1d2cf9-fb55-4b7e-82dc-8c47a9de72a9",
   "metadata": {},
   "outputs": [
    {
     "name": "stdout",
     "output_type": "stream",
     "text": [
      "1D to 3D Array: \n",
      " [[[1 3]\n",
      "  [5 7]]\n",
      "\n",
      " [[2 4]\n",
      "  [6 8]]]\n"
     ]
    }
   ],
   "source": [
    "# Reshaping 1 D array into 3 D array\n",
    "# create a 1D array\n",
    "array1 = np.array([1, 3, 5, 7, 2, 4, 6, 8])\n",
    "\n",
    "# reshape the 1D array to a 3D array\n",
    "result = np.reshape(array1, (2, 2, 2))\n",
    "\n",
    "# print the new array\n",
    "print(\"1D to 3D Array: \\n\",result)\n"
   ]
  },
  {
   "cell_type": "code",
   "execution_count": 51,
   "id": "d317da89-927c-4da2-8451-4ffda1c472e9",
   "metadata": {},
   "outputs": [
    {
     "name": "stdout",
     "output_type": "stream",
     "text": [
      "[[1 2]\n",
      " [3 4]\n",
      " [5 6]]\n",
      "[[1 3 5]\n",
      " [2 4 6]]\n"
     ]
    }
   ],
   "source": [
    "originalArray = np.array([[1, 2], [3, 4],[5,6]])\n",
    "print(originalArray)\n",
    "\n",
    "# swaps the rows and columns of an array\n",
    "transposedArray = np.transpose(originalArray)\n",
    "\n",
    "print(transposedArray)\n"
   ]
  },
  {
   "cell_type": "code",
   "execution_count": 52,
   "id": "d9c74859-0072-4532-8242-c8517b83e5f2",
   "metadata": {},
   "outputs": [
    {
     "name": "stdout",
     "output_type": "stream",
     "text": [
      "[1 2 3 4 5 6]\n"
     ]
    }
   ],
   "source": [
    "# creating an input array\n",
    "myarray = np.array([[1,2,3],[4,5,6]])\n",
    "\n",
    "# to flatten the array in F-order\n",
    "print(myarray.flatten('k'))\n",
    "\n"
   ]
  },
  {
   "cell_type": "code",
   "execution_count": 53,
   "id": "16f33542-5c7e-4551-bcc9-fec48778584c",
   "metadata": {},
   "outputs": [
    {
     "name": "stdout",
     "output_type": "stream",
     "text": [
      "[1 4 2 5 3 6]\n"
     ]
    }
   ],
   "source": [
    "# creating an input array\n",
    "myarray = np.array([[1,2,3],[4,5,6]])\n",
    "\n",
    "# to flatten the array in F-order\n",
    "print(myarray.flatten('f'))\n",
    "\n"
   ]
  },
  {
   "cell_type": "code",
   "execution_count": 54,
   "id": "129c410b-8521-49f2-a1c5-6061f81dc159",
   "metadata": {},
   "outputs": [
    {
     "name": "stdout",
     "output_type": "stream",
     "text": [
      "[[0 1 2]\n",
      " [3 0 0]]\n"
     ]
    }
   ],
   "source": [
    "# Create NumPy array\n",
    "my_arr = np.array([ [0,1], [2,3] ])\n",
    "# Resize the numpy array using resize method\n",
    "my_arr.resize( (2, 3) )\n",
    "\n",
    "print(my_arr)\n",
    "\n"
   ]
  },
  {
   "cell_type": "code",
   "execution_count": 56,
   "id": "35c41aaa-4ec5-46f0-b338-4852ac360add",
   "metadata": {},
   "outputs": [
    {
     "data": {
      "text/plain": [
       "array([[2, 3],\n",
       "       [4, 5],\n",
       "       [6, 7]])"
      ]
     },
     "execution_count": 56,
     "metadata": {},
     "output_type": "execute_result"
    }
   ],
   "source": [
    "\n",
    "data = np.array([[1, 2], [3, 4], [5, 6]])\n",
    "ones_row = np.array([[1, 1]])\n",
    "data + ones_row\n"
   ]
  },
  {
   "cell_type": "code",
   "execution_count": 57,
   "id": "1c0b1755-e7f0-4f2c-b363-1ab36cea5a1c",
   "metadata": {},
   "outputs": [
    {
     "name": "stdout",
     "output_type": "stream",
     "text": [
      "[[4 3 2 2]\n",
      " [2 3 3 4]]\n",
      "\n",
      " [[3 1 4 2]\n",
      " [4 4 1 0]]\n"
     ]
    },
    {
     "data": {
      "text/plain": [
       "array([[12,  3,  8,  4],\n",
       "       [ 8, 12,  3,  0]])"
      ]
     },
     "execution_count": 57,
     "metadata": {},
     "output_type": "execute_result"
    }
   ],
   "source": [
    "###Lets multiply two arrays\n",
    "a=np.array([[4,3,2,2],[2,3,3,4]])\n",
    "print(a)\n",
    "b=np.array([[3,1,4,2],[4,4,1,0]])\n",
    "print(\"\\n\",b)\n",
    "np.multiply(a,b)\n"
   ]
  },
  {
   "cell_type": "code",
   "execution_count": 58,
   "id": "d88dfc10-9494-4530-97ae-fac9062f8f6c",
   "metadata": {},
   "outputs": [
    {
     "name": "stdout",
     "output_type": "stream",
     "text": [
      "[[11 12]\n",
      " [12 13]]\n",
      "\n",
      " [[3 1]\n",
      " [4 4]]\n"
     ]
    },
    {
     "data": {
      "text/plain": [
       "array([[81, 59],\n",
       "       [88, 64]])"
      ]
     },
     "execution_count": 58,
     "metadata": {},
     "output_type": "execute_result"
    }
   ],
   "source": [
    "###Lets do dot product two arrays\n",
    "a=np.array([[11,12],[12,13]])\n",
    "print(a)\n",
    "b=np.array([[3,1,],[4,4]])\n",
    "print(\"\\n\",b)\n",
    "np.dot(a,b)\n"
   ]
  },
  {
   "cell_type": "code",
   "execution_count": 60,
   "id": "45e4d974-5fa0-404a-80a0-96fa2b72b1ee",
   "metadata": {},
   "outputs": [
    {
     "name": "stdout",
     "output_type": "stream",
     "text": [
      "[[4 3 2 2]\n",
      " [2 3 3 4]]\n",
      "\n",
      " [[3 1 4 2]\n",
      " [4 4 1 0]]\n"
     ]
    },
    {
     "name": "stderr",
     "output_type": "stream",
     "text": [
      "C:\\Users\\admin\\AppData\\Local\\Temp\\ipykernel_2012\\2759550187.py:6: RuntimeWarning: divide by zero encountered in divide\n",
      "  np.divide(a,b)\n"
     ]
    },
    {
     "data": {
      "text/plain": [
       "array([[1.33333333, 3.        , 0.5       , 1.        ],\n",
       "       [0.5       , 0.75      , 3.        ,        inf]])"
      ]
     },
     "execution_count": 60,
     "metadata": {},
     "output_type": "execute_result"
    }
   ],
   "source": [
    "###Lets Divide two arrays\n",
    "a=np.array([[4,3,2,2],[2,3,3,4]])\n",
    "print(a)\n",
    "b=np.array([[3,1,4,2],[4,4,1,0]])\n",
    "print(\"\\n\",b)\n",
    "np.divide(a,b)\n"
   ]
  },
  {
   "cell_type": "code",
   "execution_count": 61,
   "id": "232800e1-c065-4430-b063-bdb291d9b18c",
   "metadata": {},
   "outputs": [
    {
     "name": "stdout",
     "output_type": "stream",
     "text": [
      "6\n",
      "1\n",
      "21\n"
     ]
    }
   ],
   "source": [
    "data = np.array([[1, 2], [3, 4], [5, 6]])\n",
    "print(data.max())\n",
    "print(data.min())\n",
    "print(data.sum())\n"
   ]
  },
  {
   "cell_type": "code",
   "execution_count": 62,
   "id": "1a8d4968-de31-455f-be65-6f7aacbf2a77",
   "metadata": {},
   "outputs": [
    {
     "name": "stdout",
     "output_type": "stream",
     "text": [
      "[[1 2]\n",
      " [5 3]\n",
      " [4 6]]\n",
      "[5 6]\n",
      "[2 5 6]\n"
     ]
    }
   ],
   "source": [
    "data = np.array([[1, 2], [5, 3], [4, 6]])\n",
    "print(data)\n",
    "print(data.max(axis=0))\n",
    "print(data.max(axis=1))\n"
   ]
  },
  {
   "cell_type": "code",
   "execution_count": 63,
   "id": "5fc83119-aa1e-4755-a734-ff55d945f346",
   "metadata": {},
   "outputs": [
    {
     "name": "stdout",
     "output_type": "stream",
     "text": [
      "Mean: 30.0\n",
      "Median: 30.0\n",
      "Standard Deviation: 14.142135623730951\n",
      "Variance: 200.0\n",
      "75th Percentile: 30.0\n"
     ]
    }
   ],
   "source": [
    "# Creating numpy array\n",
    "data = np.array([10, 20, 30, 40, 50])\n",
    "\n",
    "# calculating mean\n",
    "mean = np.mean(data)\n",
    "print(\"Mean:\", mean)\n",
    "\n",
    "# calculating median \n",
    "median = np.median(data)\n",
    "print(\"Median:\", median)\n",
    "\n",
    "# calculating standard deviation\n",
    "std_dev = np.std(data)\n",
    "print(\"Standard Deviation:\", std_dev)\n",
    "\n",
    "# Calculating variance\n",
    "variance = np.var(data)\n",
    "print(\"Variance:\", variance)\n",
    "\n",
    "# calculating percentile\n",
    "percentile_75 = np.percentile(data, 50)\n",
    "print(\"75th Percentile:\", percentile_75)\n"
   ]
  },
  {
   "cell_type": "code",
   "execution_count": 65,
   "id": "67aee964-3043-40cb-b2fa-bd2dece64965",
   "metadata": {},
   "outputs": [],
   "source": [
    "a= np.array([1,2,3,4,5])\n",
    "\n",
    "# saving file in binary format\n",
    "np.save('outfile',a)\n"
   ]
  },
  {
   "cell_type": "code",
   "execution_count": 66,
   "id": "3a0527cb-faca-4c72-9c96-213ece1d0d7c",
   "metadata": {},
   "outputs": [
    {
     "name": "stdout",
     "output_type": "stream",
     "text": [
      "[1 2 3 4 5]\n"
     ]
    }
   ],
   "source": [
    "# Loading file using load() method\n",
    "b = np.load('outfile.npy')\n",
    "print(b)\n"
   ]
  },
  {
   "cell_type": "code",
   "execution_count": 67,
   "id": "fe654104-23b9-448c-93dc-8710d09ad2ec",
   "metadata": {},
   "outputs": [
    {
     "name": "stdout",
     "output_type": "stream",
     "text": [
      "[11. 22. 33. 44. 55.]\n"
     ]
    }
   ],
   "source": [
    "a = np.array([11,22,33,44,55])\n",
    "# Saving file in text format using savetxt() method\n",
    "np.savetxt('out.txt',a)\n",
    "\n",
    "#loading text file using loadtxt() method\n",
    "b = np.loadtxt('out.txt')\n",
    "print(b)\n"
   ]
  },
  {
   "cell_type": "code",
   "execution_count": null,
   "id": "195b6850-c5cc-4792-85c1-c1759b7f4c72",
   "metadata": {},
   "outputs": [],
   "source": []
  }
 ],
 "metadata": {
  "kernelspec": {
   "display_name": "Python 3 (ipykernel)",
   "language": "python",
   "name": "python3"
  },
  "language_info": {
   "codemirror_mode": {
    "name": "ipython",
    "version": 3
   },
   "file_extension": ".py",
   "mimetype": "text/x-python",
   "name": "python",
   "nbconvert_exporter": "python",
   "pygments_lexer": "ipython3",
   "version": "3.12.3"
  }
 },
 "nbformat": 4,
 "nbformat_minor": 5
}
