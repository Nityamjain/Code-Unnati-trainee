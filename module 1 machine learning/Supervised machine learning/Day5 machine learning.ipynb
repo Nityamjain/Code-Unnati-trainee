{
 "cells": [
  {
   "cell_type": "code",
   "execution_count": 1,
   "id": "33a6eae4-8599-42ff-ac4c-3d60dfc4dbb7",
   "metadata": {},
   "outputs": [],
   "source": [
    "#import sk-learn libraary\n",
    "from sklearn import tree\n",
    "features=[[140,1],[130,1],[150,0],[170,0]]\n",
    "labels=[0,0,1,1]"
   ]
  },
  {
   "cell_type": "code",
   "execution_count": 2,
   "id": "073eaf3e-2825-410d-82d9-0822cad5676c",
   "metadata": {},
   "outputs": [],
   "source": [
    "clf = tree.DecisionTreeClassifier()"
   ]
  },
  {
   "cell_type": "code",
   "execution_count": 3,
   "id": "a765b4f4-f179-4d3e-8a57-2d54dc90f6d9",
   "metadata": {},
   "outputs": [
    {
     "name": "stdout",
     "output_type": "stream",
     "text": [
      "[1]\n"
     ]
    }
   ],
   "source": [
    "clf= clf.fit(features,labels)\n",
    "print(clf.predict([[160,0]]))"
   ]
  },
  {
   "cell_type": "code",
   "execution_count": null,
   "id": "dfc8c807-595c-4501-b3d8-4c845dbf0334",
   "metadata": {},
   "outputs": [],
   "source": []
  }
 ],
 "metadata": {
  "kernelspec": {
   "display_name": "Python 3 (ipykernel)",
   "language": "python",
   "name": "python3"
  },
  "language_info": {
   "codemirror_mode": {
    "name": "ipython",
    "version": 3
   },
   "file_extension": ".py",
   "mimetype": "text/x-python",
   "name": "python",
   "nbconvert_exporter": "python",
   "pygments_lexer": "ipython3",
   "version": "3.12.3"
  }
 },
 "nbformat": 4,
 "nbformat_minor": 5
}
